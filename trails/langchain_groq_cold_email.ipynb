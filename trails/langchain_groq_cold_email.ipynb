{
 "cells": [
  {
   "cell_type": "code",
   "execution_count": 4,
   "metadata": {},
   "outputs": [
    {
     "data": {
      "text/plain": [
       "AIMessage(content='**What is Machine Learning?**\\n\\nMachine Learning (ML) is a subset of Artificial Intelligence (AI) that enables systems to automatically learn and improve from experience without being explicitly programmed. It involves using algorithms and statistical models to enable computers to learn, classify, and make decisions based on data.\\n\\n**Key Characteristics of Machine Learning:**\\n\\n1. **Implicit Learning**: Machine learning is a form of implicit learning, where the system learns to make predictions or decisions without being explicitly told what to do.\\n2. **Data-Driven**: Machine learning is based on data, and the quality of the decisions made by the system depends on the quality of the data used to train it.\\n3. **Self-Improvement**: Machine learning systems can improve their performance over time, using experience gained from the data they have been trained on.\\n4. **Automated Decision-Making**: Machine learning enables computers to make decisions based on complex patterns and relationships in data, often more accurately and efficiently than humans.\\n\\n**Types of Machine Learning:**\\n\\n1. **Supervised Learning**: The system is trained on labeled data, where the correct output is already known.\\n2. **Unsupervised Learning**: The system is trained on unlabeled data, and it must find patterns and structure in the data on its own.\\n3. **Reinforcement Learning**: The system learns by interacting with an environment and receiving rewards or penalties for its actions.\\n4. **Deep Learning**: A type of machine learning that uses neural networks with multiple layers to learn complex patterns in data.\\n\\n**Applications of Machine Learning:**\\n\\n1. **Image and Speech Recognition**\\n2. **Natural Language Processing (NLP)**\\n3. **Predictive Analytics**\\n4. **Recommendation Systems**\\n5. **Autonomous Vehicles**\\n6. **Healthcare Diagnosis**\\n\\n**Benefits of Machine Learning:**\\n\\n1. **Improved Accuracy**: Machine learning can improve the accuracy of predictions and decisions made by systems.\\n2. **Increased Efficiency**: Machine learning can automate tasks, freeing up human resources for more strategic activities.\\n3. **Reduced Costs**: Machine learning can help reduce costs associated with manual data processing and decision-making.\\n4. **Data-Driven Insights**: Machine learning can provide insights and patterns in data that might be difficult to see with human eyes.\\n\\n**Common Machine Learning Algorithms:**\\n\\n1. **Linear Regression**\\n2. **Decision Trees**\\n3. **Random Forest**\\n4. **Support Vector Machines (SVMs)**\\n5. **K-Nearest Neighbors (KNN)**\\n\\nIn summary, machine learning is a powerful technology that enables systems to learn from data, make decisions, and improve over time. Its applications are vast, and its benefits include improved accuracy, increased efficiency, and reduced costs.', additional_kwargs={}, response_metadata={'token_usage': {'completion_tokens': 555, 'prompt_tokens': 39, 'total_tokens': 594, 'completion_time': 0.324867152, 'prompt_time': 0.007130825, 'queue_time': 0.005983044, 'total_time': 0.331997977}, 'model_name': 'llama-3.2-3b-preview', 'system_fingerprint': 'fp_a926bfdce1', 'finish_reason': 'stop', 'logprobs': None}, id='run-0895aea9-7aa5-4c26-b084-426701a3dcd1-0', usage_metadata={'input_tokens': 39, 'output_tokens': 555, 'total_tokens': 594})"
      ]
     },
     "execution_count": 4,
     "metadata": {},
     "output_type": "execute_result"
    }
   ],
   "source": [
    "from langchain_groq import ChatGroq\n",
    "\n",
    "llm = ChatGroq(\n",
    "    api_key=\"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\",\n",
    "    model=\"llama-3.2-3b-preview\",\n",
    "    temperature=1,\n",
    "    max_tokens=1024,\n",
    ")\n",
    "responce = llm.invoke(\"what is machinelearning\")\n",
    "\n",
    "responce\n",
    "\n"
   ]
  },
  {
   "cell_type": "code",
   "execution_count": 5,
   "metadata": {},
   "outputs": [],
   "source": [
    "import chromadb\n",
    "client = chromadb.Client()\n",
    "collections = client.create_collection(name=\"my_collecction\")"
   ]
  },
  {
   "cell_type": "code",
   "execution_count": 103,
   "metadata": {},
   "outputs": [],
   "source": [
    "# client.delete_collection(name=\"my_collecction\")"
   ]
  },
  {
   "cell_type": "code",
   "execution_count": 6,
   "metadata": {},
   "outputs": [
    {
     "name": "stderr",
     "output_type": "stream",
     "text": [
      "C:\\Users\\Win10\\.cache\\chroma\\onnx_models\\all-MiniLM-L6-v2\\onnx.tar.gz: 100%|██████████| 79.3M/79.3M [00:12<00:00, 6.89MiB/s]\n"
     ]
    }
   ],
   "source": [
    "collections.add(\n",
    "    documents=[\n",
    "        \"this document about newyark\",\n",
    "        \"this document about delhi\"\n",
    "    ],\n",
    "    ids=[\"id1\",\"id2\"]\n",
    ")"
   ]
  },
  {
   "cell_type": "code",
   "execution_count": 8,
   "metadata": {},
   "outputs": [
    {
     "data": {
      "text/plain": [
       "{'ids': ['id2'],\n",
       " 'embeddings': None,\n",
       " 'documents': ['this document about delhi'],\n",
       " 'uris': None,\n",
       " 'data': None,\n",
       " 'metadatas': [None],\n",
       " 'included': [<IncludeEnum.documents: 'documents'>,\n",
       "  <IncludeEnum.metadatas: 'metadatas'>]}"
      ]
     },
     "execution_count": 8,
     "metadata": {},
     "output_type": "execute_result"
    }
   ],
   "source": [
    "collections.get(ids=[\"id2\"])"
   ]
  },
  {
   "cell_type": "code",
   "execution_count": 11,
   "metadata": {},
   "outputs": [
    {
     "data": {
      "text/plain": [
       "{'ids': [['id2']],\n",
       " 'embeddings': None,\n",
       " 'documents': [['this document about delhi']],\n",
       " 'uris': None,\n",
       " 'data': None,\n",
       " 'metadatas': [[None]],\n",
       " 'distances': [[1.6980936527252197]],\n",
       " 'included': [<IncludeEnum.distances: 'distances'>,\n",
       "  <IncludeEnum.documents: 'documents'>,\n",
       "  <IncludeEnum.metadatas: 'metadatas'>]}"
      ]
     },
     "execution_count": 11,
     "metadata": {},
     "output_type": "execute_result"
    }
   ],
   "source": [
    "collections.query(query_texts=[\"chole bature famus dish\"],\n",
    "                  n_results=1)"
   ]
  },
  {
   "cell_type": "code",
   "execution_count": 14,
   "metadata": {},
   "outputs": [
    {
     "name": "stdout",
     "output_type": "stream",
     "text": [
      "Apply for Retail Associate, SEAS - Houston\n",
      "\n",
      "Search JobsSkip navigationSearch JobsNIKE, INC. JOBSContract JobsJoin The Talent CommunityLife @ NikeOverviewBenefitsBrandsOverviewJordanConverseTeamsOverviewAdministrative SupportAdvanced InnovationAir Manufacturing InnovationAviationCommunicationsCustomer ServiceDesignDigitalFacilitiesFinance & AccountingGovernment & Public AffairsHuman ResourcesInsights & AnalyticsLegalManufacturing & EngineeringMarketingMerchandisingPlanningPrivacyProcurementProduct Creation, Development & ManagementRetail CorporateRetail StoresSalesSocial & Community ImpactSports MarketingStrategic PlanningSupply Chain, Distribution & LogisticsSustainabilityTechnologyLocationsOverviewNike WHQNike New York HQEHQ: Hilversum, The NetherlandsELC: Laakdal, BelgiumGreater China HQDiversity, Equity & InclusionOverviewMilitary InclusionDisability InclusionIndigenous InclusionInternshipsRetail StoresRetail Associate, SEAS - HoustonCypress, TexasBecome part of the Converse TeamConverse is a place to explore potential, break barriers and push out the edges of what can be. The company looks for people who can grow, think, dream and create. Its culture thrives by embracing diversity and rewarding imagination. The brand seeks achievers, leaders and visionaries. At Converse, it’s about each person bringing skills and passion to a challenging and constantly evolving world to make things better as a team.Without You, We’d Just Be Collectors of Our Own StuffBusiness equals selling stuff.  That’s the basic model.  The more complex awesome model is creating stuff that people identify with and then you figuring out how to get it to them.  We need people like you: creative, dynamic problem solvers who see it as more than business.  Who see it as giving people the tools of self-expression and individuality.Location & Store Type: Converse HoustonAddress: Cypress, TXStarting Pay Rate: $15.50/hourHours: Seasonal – 0-40 hours per week, including nights and weekends  Be an All Star as a Converse Retail Associate You’re energetic, a rebel – a game-changer – and we want you on our team. Bring your authentic form of self-expression together with other creatives, creating a unique vibe that is unlike anywhere else. Our shoes are iconic, just like you and just like our customers. Be part of continuing our legacy of inspiring, motivating and embracing the world of sport, culture, and creativity.   At Converse, we celebrate and welcome you for who you are and encourage you to bring your individual style and passion to your team. We enjoy pushing boundaries together and innovating beyond what we ever thought was possible. We’re proud to offer you benefits you’ll actually use, including product discounts, access to employee-only events and sample sales, incredible learning and growth opportunities and so much more.   Be Rewarded for a Job Well Done  Discounts for you and your family from Nike, Converse, and Jordan up to 50% off All full-time and part-time employees working 20 hours or more per week will accrue Paid Time Off and Holiday Pay All full-time and part-time employees working 20 hours or more per week are eligible for 401(k) Plan, CERA, Employee Assistance Program, Mental and Emotional Health, Financial Coaching and Education, Child Development Support and Caregiving Benefits starting on the day you're hired Full-time and part-time employees working 20 hours or more per week are eligible for Health Savings Accounts and Flexible Savings Accounts after 12 months of continuous employment Access to support through Optum Employee Assistance Program at no cost for you and your family Tuition Reimbursement up to $5,250 per calendar year for full-time Retail Associates Information about benefits can be found here.  Putting Your Best Foot Forward  Must be at least 18 (U.S) Flexibility to work nights, weekends and holidays based on store needs You want to learn and understand footwear, apparel and accessories and pass that knowledge onto your customers Physical requirements include the ability to bend, squat, reach, climb a ladder and stand for extended periods of time *with or without assistance   What You're Responsible For   Having a positive attitude while creating a fun, knowledgeable environment for your teammates and customers  Supporting the customer sales journey from start to finish, authentically and passionately Being professional, demonstrating integrity, reliability, and kindness  Acting in accordance with store policies and procedures, operating a cash register, shipping and receiving duties, stocking products, cleaning and building visual displays *with or without assistance     CONVERSE, Inc. is committed to fostering a diverse and inclusive environment for all CONVERSE employees and job applicants and offers a number of accommodations to complete our interview process including readers and sign language, accessible and single location for in-person interviewers, modified equipment/devices and closed captioning. If you need an accommodation to complete the application process, we’re here to help! Please contact us at +1 503-671-4156 and include your full name, best way to reach you, and the accommodation needed to assist you with the application process.   For more information, please refer to Equal Employment Opportunity is The Law Converse is more than a company; it’s a worldwide advocate for self-expression. This belief motivates our employees, permeates our working environment and inspires our products. No two of us look or think exactly alike. We are each one-of-a-kind. Individually and as a culture, we have the freedom to create and grow professionally. Generous benefits packages only sweeten the experience. From Boston to Shanghai, from Brand Design to Finance, Converse is a brand that celebrates the unique and creative people of the world. Together, we’re different.How We HireAt NIKE, Inc. we promise to provide a premium, inclusive, compelling and authentic candidate experience. Delivering on this promise means we allow you to be at your best — and to do that, you need to understand how the hiring process works. Transparency is key.\n",
      "\n",
      "* This overview explains our hiring process for corporate roles. Note there may be different hiring steps involved for non-corporate roles.Start nowBenefitsWhether it’s transportation or financial health, we continually invest in our employees to help them achieve greatness — inside and outside of work. All who work here should be able to realize their full potential.Employee Assistance ProgramHolidaysMedical PlanPaid Time Off (PTO)Product DiscountsSummer HoursLearn moreFIND A STOREBECOME A MEMBERSIGN UP FOR EMAILSEND US FEEDBACKSTUDENT DISCOUNTSGET HELPGET HELPOrder StatusDeliveryReturnsPayment OptionsContact Us On Nike.com InquiriesContact Us On All Other InquiriesABOUT NIKEABOUT NIKENewsCareersInvestorsSustainabilityIndia© 2024 Nike, Inc. All Rights ReservedGuidesNike AdaptNike Air MaxNike FlyleatherNike PegasusNike Zoom FlyNike AirNike FlyEaseNike FreeNike ReactNike ZoomXNike Air Force 1Nike FlyknitNike JoyrideNike VaporflyTerms of SaleTerms of UseNike Privacy Policy\n"
     ]
    }
   ],
   "source": [
    "from langchain_community.document_loaders import WebBaseLoader\n",
    "loader = WebBaseLoader(\"https://jobs.nike.com/job/R-44213?from=job%20search%20funnel\")\n",
    "page_data = loader.load().pop().page_content\n",
    "print(page_data)"
   ]
  },
  {
   "cell_type": "code",
   "execution_count": 88,
   "metadata": {},
   "outputs": [],
   "source": [
    "from langchain_core.prompts import PromptTemplate\n",
    "\n",
    "temp = PromptTemplate.from_template(\n",
    "    \"\"\"### WEB SCREPPING:\n",
    "    {web_data}\n",
    "    ### INSTRUCTION:\n",
    "    The scraped text is from the career's page of a website.\n",
    "    Your job is to extract the job postings and return them in JSON format containing the \n",
    "    following keys: `role`, `experience`, `skills` and `description`.\n",
    "    Only return the valid JSON.\n",
    "    ### VALID JSON (NO PREAmBLE)\n",
    "    \"\"\"\n",
    ")\n",
    "\n",
    "chaine = temp | llm\n",
    "resp = chaine.invoke(input={\"web_data\": page_data})\n"
   ]
  },
  {
   "cell_type": "code",
   "execution_count": 89,
   "metadata": {},
   "outputs": [
    {
     "data": {
      "text/plain": [
       "'```\\n[\\n    {\\n        \"role\": \"Retail Associate, SEAS - Houston\",\\n        \"experience\": \"Seasonal – 0-40 hours per week\",\\n        \"skills\": [\\n            \"be energetic, a rebel – a game-changer\",\\n            \"creativity\",\\n            \"dynamic problem solvers\",\\n            \"individuality\"\\n        ],\\n        \"description\": \"Be an All Star as a Converse Retail Associate. You\\'re energetic, a rebel – a game-changer – and we want you on our team. Bring your authentic form of self-expression together with other creatives, creating a unique vibe that is unlike anywhere else.\"\\n    }\\n]\\n```'"
      ]
     },
     "execution_count": 89,
     "metadata": {},
     "output_type": "execute_result"
    }
   ],
   "source": [
    "resp.content"
   ]
  },
  {
   "cell_type": "code",
   "execution_count": 90,
   "metadata": {},
   "outputs": [
    {
     "data": {
      "text/plain": [
       "{'role': 'Retail Associate, SEAS - Houston',\n",
       " 'experience': 'Seasonal – 0-40 hours per week',\n",
       " 'skills': ['be energetic, a rebel – a game-changer',\n",
       "  'creativity',\n",
       "  'dynamic problem solvers',\n",
       "  'individuality'],\n",
       " 'description': \"Be an All Star as a Converse Retail Associate. You're energetic, a rebel – a game-changer – and we want you on our team. Bring your authentic form of self-expression together with other creatives, creating a unique vibe that is unlike anywhere else.\"}"
      ]
     },
     "execution_count": 90,
     "metadata": {},
     "output_type": "execute_result"
    }
   ],
   "source": [
    "from langchain_core.output_parsers import JsonOutputParser\n",
    "\n",
    "json_parser = JsonOutputParser()\n",
    "json_res = json_parser.parse(resp.content)\n",
    "\n",
    "# Extract the first JSON object in the list\n",
    "if isinstance(json_res, list) and json_res:\n",
    "    json_res = json_res[0]\n",
    "\n",
    "json_res"
   ]
  },
  {
   "cell_type": "code",
   "execution_count": null,
   "metadata": {},
   "outputs": [],
   "source": []
  },
  {
   "cell_type": "code",
   "execution_count": 26,
   "metadata": {},
   "outputs": [
    {
     "data": {
      "text/html": [
       "<div>\n",
       "<style scoped>\n",
       "    .dataframe tbody tr th:only-of-type {\n",
       "        vertical-align: middle;\n",
       "    }\n",
       "\n",
       "    .dataframe tbody tr th {\n",
       "        vertical-align: top;\n",
       "    }\n",
       "\n",
       "    .dataframe thead th {\n",
       "        text-align: right;\n",
       "    }\n",
       "</style>\n",
       "<table border=\"1\" class=\"dataframe\">\n",
       "  <thead>\n",
       "    <tr style=\"text-align: right;\">\n",
       "      <th></th>\n",
       "      <th>Techstack</th>\n",
       "      <th>Links</th>\n",
       "    </tr>\n",
       "  </thead>\n",
       "  <tbody>\n",
       "    <tr>\n",
       "      <th>0</th>\n",
       "      <td>React, Node.js, MongoDB</td>\n",
       "      <td>https://example.com/react-portfolio</td>\n",
       "    </tr>\n",
       "    <tr>\n",
       "      <th>1</th>\n",
       "      <td>Angular,.NET, SQL Server</td>\n",
       "      <td>https://example.com/angular-portfolio</td>\n",
       "    </tr>\n",
       "    <tr>\n",
       "      <th>2</th>\n",
       "      <td>Vue.js, Ruby on Rails, PostgreSQL</td>\n",
       "      <td>https://example.com/vue-portfolio</td>\n",
       "    </tr>\n",
       "    <tr>\n",
       "      <th>3</th>\n",
       "      <td>Python, Django, MySQL</td>\n",
       "      <td>https://example.com/python-portfolio</td>\n",
       "    </tr>\n",
       "    <tr>\n",
       "      <th>4</th>\n",
       "      <td>Java, Spring Boot, Oracle</td>\n",
       "      <td>https://example.com/java-portfolio</td>\n",
       "    </tr>\n",
       "    <tr>\n",
       "      <th>5</th>\n",
       "      <td>Flutter, Firebase, GraphQL</td>\n",
       "      <td>https://example.com/flutter-portfolio</td>\n",
       "    </tr>\n",
       "    <tr>\n",
       "      <th>6</th>\n",
       "      <td>WordPress, PHP, MySQL</td>\n",
       "      <td>https://example.com/wordpress-portfolio</td>\n",
       "    </tr>\n",
       "    <tr>\n",
       "      <th>7</th>\n",
       "      <td>Magento, PHP, MySQL</td>\n",
       "      <td>https://example.com/magento-portfolio</td>\n",
       "    </tr>\n",
       "    <tr>\n",
       "      <th>8</th>\n",
       "      <td>React Native, Node.js, MongoDB</td>\n",
       "      <td>https://example.com/react-native-portfolio</td>\n",
       "    </tr>\n",
       "    <tr>\n",
       "      <th>9</th>\n",
       "      <td>iOS, Swift, Core Data</td>\n",
       "      <td>https://example.com/ios-portfolio</td>\n",
       "    </tr>\n",
       "    <tr>\n",
       "      <th>10</th>\n",
       "      <td>Android, Java, Room Persistence</td>\n",
       "      <td>https://example.com/android-portfolio</td>\n",
       "    </tr>\n",
       "    <tr>\n",
       "      <th>11</th>\n",
       "      <td>Kotlin, Android, Firebase</td>\n",
       "      <td>https://example.com/kotlin-android-portfolio</td>\n",
       "    </tr>\n",
       "    <tr>\n",
       "      <th>12</th>\n",
       "      <td>Android TV, Kotlin, Android NDK</td>\n",
       "      <td>https://example.com/android-tv-portfolio</td>\n",
       "    </tr>\n",
       "    <tr>\n",
       "      <th>13</th>\n",
       "      <td>iOS, Swift, ARKit</td>\n",
       "      <td>https://example.com/ios-ar-portfolio</td>\n",
       "    </tr>\n",
       "    <tr>\n",
       "      <th>14</th>\n",
       "      <td>Cross-platform, Xamarin, Azure</td>\n",
       "      <td>https://example.com/xamarin-portfolio</td>\n",
       "    </tr>\n",
       "    <tr>\n",
       "      <th>15</th>\n",
       "      <td>Backend, Kotlin, Spring Boot</td>\n",
       "      <td>https://example.com/kotlin-backend-portfolio</td>\n",
       "    </tr>\n",
       "    <tr>\n",
       "      <th>16</th>\n",
       "      <td>Frontend, TypeScript, Angular</td>\n",
       "      <td>https://example.com/typescript-frontend-portfolio</td>\n",
       "    </tr>\n",
       "    <tr>\n",
       "      <th>17</th>\n",
       "      <td>Full-stack, JavaScript, Express.js</td>\n",
       "      <td>https://example.com/full-stack-js-portfolio</td>\n",
       "    </tr>\n",
       "    <tr>\n",
       "      <th>18</th>\n",
       "      <td>Machine Learning, Python, TensorFlow</td>\n",
       "      <td>https://example.com/ml-python-portfolio</td>\n",
       "    </tr>\n",
       "    <tr>\n",
       "      <th>19</th>\n",
       "      <td>DevOps, Jenkins, Docker</td>\n",
       "      <td>https://example.com/devops-portfolio</td>\n",
       "    </tr>\n",
       "  </tbody>\n",
       "</table>\n",
       "</div>"
      ],
      "text/plain": [
       "                               Techstack  \\\n",
       "0                React, Node.js, MongoDB   \n",
       "1               Angular,.NET, SQL Server   \n",
       "2      Vue.js, Ruby on Rails, PostgreSQL   \n",
       "3                  Python, Django, MySQL   \n",
       "4              Java, Spring Boot, Oracle   \n",
       "5             Flutter, Firebase, GraphQL   \n",
       "6                  WordPress, PHP, MySQL   \n",
       "7                    Magento, PHP, MySQL   \n",
       "8         React Native, Node.js, MongoDB   \n",
       "9                  iOS, Swift, Core Data   \n",
       "10       Android, Java, Room Persistence   \n",
       "11             Kotlin, Android, Firebase   \n",
       "12       Android TV, Kotlin, Android NDK   \n",
       "13                     iOS, Swift, ARKit   \n",
       "14        Cross-platform, Xamarin, Azure   \n",
       "15          Backend, Kotlin, Spring Boot   \n",
       "16         Frontend, TypeScript, Angular   \n",
       "17    Full-stack, JavaScript, Express.js   \n",
       "18  Machine Learning, Python, TensorFlow   \n",
       "19               DevOps, Jenkins, Docker   \n",
       "\n",
       "                                                Links  \n",
       "0                 https://example.com/react-portfolio  \n",
       "1               https://example.com/angular-portfolio  \n",
       "2                   https://example.com/vue-portfolio  \n",
       "3                https://example.com/python-portfolio  \n",
       "4                  https://example.com/java-portfolio  \n",
       "5               https://example.com/flutter-portfolio  \n",
       "6             https://example.com/wordpress-portfolio  \n",
       "7               https://example.com/magento-portfolio  \n",
       "8          https://example.com/react-native-portfolio  \n",
       "9                   https://example.com/ios-portfolio  \n",
       "10              https://example.com/android-portfolio  \n",
       "11       https://example.com/kotlin-android-portfolio  \n",
       "12           https://example.com/android-tv-portfolio  \n",
       "13               https://example.com/ios-ar-portfolio  \n",
       "14              https://example.com/xamarin-portfolio  \n",
       "15       https://example.com/kotlin-backend-portfolio  \n",
       "16  https://example.com/typescript-frontend-portfolio  \n",
       "17        https://example.com/full-stack-js-portfolio  \n",
       "18            https://example.com/ml-python-portfolio  \n",
       "19               https://example.com/devops-portfolio  "
      ]
     },
     "execution_count": 26,
     "metadata": {},
     "output_type": "execute_result"
    }
   ],
   "source": [
    "import pandas as pd\n",
    "portfolio = pd.read_csv(r\"C:\\Users\\Win10\\Downloads\\my_portfolio.csv\")\n",
    "portfolio"
   ]
  },
  {
   "cell_type": "code",
   "execution_count": 43,
   "metadata": {},
   "outputs": [],
   "source": [
    "client = chromadb.PersistentClient(\"vectorstor\")\n",
    "collection = client.get_or_create_collection(name=\"portfolio\")\n",
    "\n",
    "\n"
   ]
  },
  {
   "cell_type": "code",
   "execution_count": null,
   "metadata": {},
   "outputs": [],
   "source": [
    "# client.delete_collection(name=\"portfolio\")"
   ]
  },
  {
   "cell_type": "code",
   "execution_count": 45,
   "metadata": {},
   "outputs": [],
   "source": [
    "import uuid\n",
    "if not collection.count():\n",
    "    for _, row in portfolio.iterrows():\n",
    "        collection.add(documents=row[\"Techstack\"],\n",
    "                                    metadatas={\"links\": row[\"Links\"]},\n",
    "                                    ids= [str(uuid.uuid4())])\n",
    "        "
   ]
  },
  {
   "cell_type": "code",
   "execution_count": 91,
   "metadata": {},
   "outputs": [
    {
     "data": {
      "text/plain": [
       "[[{'links': 'https://example.com/ml-python-portfolio'},\n",
       "  {'links': 'https://example.com/python-portfolio'},\n",
       "  {'links': 'https://example.com/devops-portfolio'},\n",
       "  {'links': 'https://example.com/ios-ar-portfolio'},\n",
       "  {'links': 'https://example.com/magento-portfolio'}],\n",
       " [{'links': 'https://example.com/react-portfolio'},\n",
       "  {'links': 'https://example.com/react-native-portfolio'},\n",
       "  {'links': 'https://example.com/full-stack-js-portfolio'},\n",
       "  {'links': 'https://example.com/typescript-frontend-portfolio'},\n",
       "  {'links': 'https://example.com/ml-python-portfolio'}]]"
      ]
     },
     "execution_count": 91,
     "metadata": {},
     "output_type": "execute_result"
    }
   ],
   "source": [
    "links = collection.query(query_texts=[\"experiance in python\",\"experiance in react\"],n_results=5).get(\"metadatas\")\n",
    "links"
   ]
  },
  {
   "cell_type": "code",
   "execution_count": 95,
   "metadata": {},
   "outputs": [
    {
     "data": {
      "text/plain": [
       "['be energetic, a rebel – a game-changer',\n",
       " 'creativity',\n",
       " 'dynamic problem solvers',\n",
       " 'individuality']"
      ]
     },
     "execution_count": 95,
     "metadata": {},
     "output_type": "execute_result"
    }
   ],
   "source": [
    "job = json_res\n",
    "job['skills']"
   ]
  },
  {
   "cell_type": "code",
   "execution_count": 96,
   "metadata": {},
   "outputs": [
    {
     "data": {
      "text/plain": [
       "[[{'links': 'https://example.com/kotlin-backend-portfolio'},\n",
       "  {'links': 'https://example.com/java-portfolio'},\n",
       "  {'links': 'https://example.com/vue-portfolio'},\n",
       "  {'links': 'https://example.com/android-tv-portfolio'},\n",
       "  {'links': 'https://example.com/flutter-portfolio'}],\n",
       " [{'links': 'https://example.com/wordpress-portfolio'},\n",
       "  {'links': 'https://example.com/magento-portfolio'},\n",
       "  {'links': 'https://example.com/ml-python-portfolio'},\n",
       "  {'links': 'https://example.com/full-stack-js-portfolio'},\n",
       "  {'links': 'https://example.com/android-portfolio'}],\n",
       " [{'links': 'https://example.com/ml-python-portfolio'},\n",
       "  {'links': 'https://example.com/android-portfolio'},\n",
       "  {'links': 'https://example.com/full-stack-js-portfolio'},\n",
       "  {'links': 'https://example.com/devops-portfolio'},\n",
       "  {'links': 'https://example.com/python-portfolio'}],\n",
       " [{'links': 'https://example.com/ios-portfolio'},\n",
       "  {'links': 'https://example.com/ios-ar-portfolio'},\n",
       "  {'links': 'https://example.com/android-portfolio'},\n",
       "  {'links': 'https://example.com/magento-portfolio'},\n",
       "  {'links': 'https://example.com/wordpress-portfolio'}]]"
      ]
     },
     "execution_count": 96,
     "metadata": {},
     "output_type": "execute_result"
    }
   ],
   "source": [
    "links = collection.query(query_texts=job['skills'],n_results=5).get(\"metadatas\")\n",
    "links"
   ]
  },
  {
   "cell_type": "code",
   "execution_count": 100,
   "metadata": {},
   "outputs": [
    {
     "name": "stdout",
     "output_type": "stream",
     "text": [
      "Subject: Boost Your Retail Workflow with AtliQ's AI-Powered Solutions\n",
      "\n",
      "Hi SEAS - Houston Team,\n",
      "\n",
      "I came across the job posting for a Retail Associate and was impressed by Converse's unique vibe and the importance of self-expression in the retail experience. As a Business Development Executive at AtliQ, I'd like to introduce you to our company and how we can help SEAS - Houston streamline its operations and enhance the overall customer experience.\n",
      "\n",
      "AtliQ specializes in providing tailored AI and software consulting solutions that drive business growth, process optimization, cost reduction, and increased efficiency. Our expertise spans various areas, including automation, analytics, and digital transformation.\n",
      "\n",
      "What sets us apart is our ability to integrate multiple technologies and systems to create seamless workflows. Here are a few examples of our success stories:\n",
      "\n",
      "* **Kotlin Backend**: Our team helped a client implement a scalable backend solution using Kotlin, resulting in a 30% reduction in development time and a 25% increase in productivity.\n",
      "* **Java Portfolio**: We designed a custom Java-based application for a retailer, enabling them to manage their inventory and customer data more efficiently, resulting in a 15% increase in sales.\n",
      "* **Vue.js Web Development**: We developed a user-friendly e-commerce platform using Vue.js, leading to a 50% increase in online sales and a significant reduction in customer complaints.\n",
      "\n",
      "By partnering with AtliQ, SEAS - Houston can expect:\n",
      "\n",
      "* Customized solutions tailored to their specific needs\n",
      "* Increased efficiency in daily operations\n",
      "* Enhanced customer experience through data-driven insights\n",
      "* Scalability to accommodate growing demands\n",
      "\n",
      "If you're interested in discussing how AtliQ can support SEAS - Houston's growth and success, I'd be happy to schedule a call. Please don't hesitate to reach out.\n",
      "\n",
      "Best regards,\n",
      "\n",
      "Mohan\n",
      "Business Development Executive\n",
      "AtliQ\n"
     ]
    }
   ],
   "source": [
    "prompt_email = PromptTemplate.from_template(\n",
    "        \"\"\"\n",
    "        ### JOB DESCRIPTION:\n",
    "        {job_description}\n",
    "        \n",
    "        ### INSTRUCTION:\n",
    "        You are Mohan, a business development executive at AtliQ. AtliQ is an AI & Software Consulting company dedicated to facilitating\n",
    "        the seamless integration of business processes through automated tools. \n",
    "        Over our experience, we have empowered numerous enterprises with tailored solutions, fostering scalability, \n",
    "        process optimization, cost reduction, and heightened overall efficiency. \n",
    "        Your job is to write a cold email to the client regarding the job mentioned above describing the capability of AtliQ \n",
    "        in fulfilling their needs.\n",
    "        Also add the most relevant ones from the following links to showcase Atliq's portfolio: {link_list}\n",
    "        Remember you are Mohan, BDE at AtliQ. \n",
    "        Do not provide a preamble.\n",
    "        ### EMAIL (NO PREAMBLE):\n",
    "        \n",
    "        \"\"\"\n",
    "        )\n",
    "\n",
    "email_chain = prompt_email | llm\n",
    "links = collection.query(query_texts=job['skills'],n_results=5).get(\"metadatas\")\n",
    "responce_e = email_chain.invoke(input=({\"job_description\": str(job),\"link_list\": links}))\n",
    "print(responce_e.content)"
   ]
  },
  {
   "cell_type": "code",
   "execution_count": null,
   "metadata": {},
   "outputs": [],
   "source": []
  },
  {
   "cell_type": "code",
   "execution_count": null,
   "metadata": {},
   "outputs": [],
   "source": []
  }
 ],
 "metadata": {
  "kernelspec": {
   "display_name": "Llm_api",
   "language": "python",
   "name": "python3"
  },
  "language_info": {
   "codemirror_mode": {
    "name": "ipython",
    "version": 3
   },
   "file_extension": ".py",
   "mimetype": "text/x-python",
   "name": "python",
   "nbconvert_exporter": "python",
   "pygments_lexer": "ipython3",
   "version": "3.12.7"
  }
 },
 "nbformat": 4,
 "nbformat_minor": 2
}
